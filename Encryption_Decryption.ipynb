{
 "cells": [
  {
   "cell_type": "markdown",
   "id": "ea1c2f53",
   "metadata": {},
   "source": [
    "# Encryption and Decryption\n",
    "\n",
    "## Case Description\n",
    "Cryptography is a critical problem in programming that has engaged researchers for many decades. \n",
    "With better encryption methods, we can better protect sensitive information—such as passwords and personal data—and ensure secure online communication.\n",
    "\n",
    "## Columnar Transposition Cipher\n",
    "The transposition cipher is a simple yet effective way of encrypting a text in a way that becomes unreadable to anyone who doesn’t possess the key to decryption.\n",
    "This project implements a columnar transposition cipher, which rearranges the characters of a plaintext message based on a key."
   ]
  },
  {
   "cell_type": "code",
   "execution_count": 1,
   "id": "855e1dd4",
   "metadata": {},
   "outputs": [],
   "source": [
    "import math"
   ]
  },
  {
   "cell_type": "code",
   "execution_count": 2,
   "id": "01cc5c83-6087-4614-8fd4-65768b625166",
   "metadata": {},
   "outputs": [],
   "source": [
    "class TranspositionCipher:\n",
    "    def __init__(self, key):\n",
    "        self.key = key\n",
    "    \n",
    "    def encrypt(self, message):\n",
    "        ciphertext = [''] * self.key\n",
    "        for col in range(self.key):\n",
    "            pointer = col\n",
    "            while pointer < len(message):\n",
    "                ciphertext[col] += message[pointer]\n",
    "                pointer += self.key\n",
    "        return ''.join(ciphertext)\n",
    "    \n",
    "    def decrypt(self, ciphertext):\n",
    "        num_cols = math.ceil(len(ciphertext) / self.key)\n",
    "        num_rows = self.key\n",
    "        num_shaded = (num_cols * num_rows) - len(ciphertext)\n",
    "        \n",
    "        plaintext = [''] * num_cols\n",
    "        col, row = 0, 0\n",
    "        \n",
    "        for symbol in ciphertext:\n",
    "            plaintext[col] += symbol\n",
    "            col += 1\n",
    "            \n",
    "            if col == num_cols or (col == num_cols - 1 and row >= num_rows - num_shaded):\n",
    "                col = 0\n",
    "                row += 1\n",
    "        \n",
    "        return ''.join(plaintext)"
   ]
  },
  {
   "cell_type": "code",
   "execution_count": 3,
   "id": "3963ba4f",
   "metadata": {},
   "outputs": [
    {
     "name": "stdout",
     "output_type": "stream",
     "text": [
      "Original Message: Hello, this is a secret message!\n",
      "Encrypted: H,sareee   es!ltistslhse aoi cmg\n",
      "Decrypted: Hello, this is a secret message!\n"
     ]
    }
   ],
   "source": [
    "# Test the encryption and decryption\n",
    "cipher = TranspositionCipher(5)\n",
    "message = \"Hello, this is a secret message!\"\n",
    "encrypted = cipher.encrypt(message)\n",
    "decrypted = cipher.decrypt(encrypted)\n",
    "\n",
    "print(f\"Original Message: {message}\")\n",
    "print(f\"Encrypted: {encrypted}\")\n",
    "print(f\"Decrypted: {decrypted}\")"
   ]
  },
  {
   "cell_type": "code",
   "execution_count": 4,
   "id": "233e2a54",
   "metadata": {},
   "outputs": [],
   "source": [
    "from itertools import permutations\n",
    "\n",
    "def hack_cipher(ciphertext, max_key_length=10):\n",
    "    for key in range(1, max_key_length + 1):\n",
    "        cipher = TranspositionCipher(key)\n",
    "        decrypted_text = cipher.decrypt(ciphertext)\n",
    "        print(f\"Trying key {key}: {decrypted_text}\")"
   ]
  },
  {
   "cell_type": "code",
   "execution_count": 5,
   "id": "5b187137-80cd-46b4-b1ad-93ca4b4afc4c",
   "metadata": {},
   "outputs": [
    {
     "name": "stdout",
     "output_type": "stream",
     "text": [
      "Trying key 1: H,sareee   es!ltistslhse aoi cmg\n",
      "Trying key 2: Hi,sstasrlehesee   a oeis !clmtg\n",
      "Trying key 3: Hes,ses! alartoeiies etc sm lg h\n",
      "Trying key 4: H i , sas toaesirsl e!hcelsmeteg\n",
      "Trying key 5: Hello, this is a secret message!\n",
      "Trying key 6: Hesssi,e!te s ls ca tlamr ihogee\n",
      "Trying key 7: He tl  ,eeihacsesssoma !teigr ls\n",
      "Trying key 8: Hr sil  ,e !shacse ltsomaeetseig\n",
      "Trying key 9: Hr sileoc,e !sh imse ltsa gaeets\n",
      "Trying key 10: Hr elsleoc,e stth imse !issa gae\n"
     ]
    }
   ],
   "source": [
    "hack_cipher(encrypted)"
   ]
  },
  {
   "cell_type": "code",
   "execution_count": null,
   "id": "a4b35818-93fb-4cc4-b681-0b7be052a758",
   "metadata": {},
   "outputs": [],
   "source": []
  }
 ],
 "metadata": {
  "kernelspec": {
   "display_name": "Python 3 (ipykernel)",
   "language": "python",
   "name": "python3"
  },
  "language_info": {
   "codemirror_mode": {
    "name": "ipython",
    "version": 3
   },
   "file_extension": ".py",
   "mimetype": "text/x-python",
   "name": "python",
   "nbconvert_exporter": "python",
   "pygments_lexer": "ipython3",
   "version": "3.12.4"
  }
 },
 "nbformat": 4,
 "nbformat_minor": 5
}
